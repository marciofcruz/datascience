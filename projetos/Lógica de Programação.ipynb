{
 "cells": [
  {
   "cell_type": "markdown",
   "metadata": {},
   "source": [
    "# Lógica de programação com Python\n"
   ]
  },
  {
   "cell_type": "code",
   "execution_count": 1,
   "metadata": {},
   "outputs": [
    {
     "name": "stdout",
     "output_type": "stream",
     "text": [
      "Idade?22\n",
      "sim\n"
     ]
    }
   ],
   "source": [
    "idade = 17\n",
    "\n",
    "def verifica_se_pode_dirigir():\n",
    "    idade = input(\"Idade?\")\n",
    "    \n",
    "    if int(idade) >= 18:\n",
    "        print('sim')\n",
    "    else:\n",
    "        print('não')\n",
    "        \n",
    "verifica_se_pode_dirigir()\n"
   ]
  },
  {
   "cell_type": "code",
   "execution_count": 9,
   "metadata": {},
   "outputs": [
    {
     "name": "stdout",
     "output_type": "stream",
     "text": [
      "O nome é Marcio e a idade é 40\n"
     ]
    }
   ],
   "source": [
    "print(f'O nome é {nome} e a idade é {idade+10}')"
   ]
  },
  {
   "cell_type": "markdown",
   "metadata": {},
   "source": [
    "# Criando minha primeira função"
   ]
  },
  {
   "cell_type": "code",
   "execution_count": 17,
   "metadata": {},
   "outputs": [],
   "source": [
    "def saudacao_com_parametros(nome_da_pessoa):\n",
    "    print(f'Olá {nome_da_pessoa}')"
   ]
  },
  {
   "cell_type": "code",
   "execution_count": 18,
   "metadata": {},
   "outputs": [
    {
     "name": "stdout",
     "output_type": "stream",
     "text": [
      "Olá teste\n"
     ]
    }
   ],
   "source": [
    "saudacao_com_parametros('teste')  \n"
   ]
  },
  {
   "cell_type": "markdown",
   "metadata": {},
   "source": [
    "# Listas\n"
   ]
  },
  {
   "cell_type": "code",
   "execution_count": 31,
   "metadata": {},
   "outputs": [
    {
     "name": "stdout",
     "output_type": "stream",
     "text": [
      "Verdadeiro\n",
      "Verdadeiro\n",
      "Falso\n",
      "Verdadeiro\n"
     ]
    }
   ],
   "source": [
    "idades = [18, 22, 15, 50]\n",
    "permissoes = []\n",
    "\n",
    "def verifica_se_pode_dirigir(idade, permissoes):\n",
    "    if idade >= 18:\n",
    "        permissoes.append(True)\n",
    "    else:\n",
    "        permissoes.append(False)\n",
    "        \n",
    "\n",
    "for x in idades:\n",
    "    verifica_se_pode_dirigir(x, permissoes)\n",
    "    \n",
    "for p in permissoes:\n",
    "    if p:\n",
    "        print('Verdadeiro')\n",
    "    else:\n",
    "        print('Falso')\n",
    "        \n"
   ]
  },
  {
   "cell_type": "markdown",
   "metadata": {},
   "source": [
    "# Boleano"
   ]
  },
  {
   "cell_type": "code",
   "execution_count": 25,
   "metadata": {},
   "outputs": [],
   "source": [
    "idade = 18"
   ]
  },
  {
   "cell_type": "code",
   "execution_count": 27,
   "metadata": {},
   "outputs": [
    {
     "data": {
      "text/plain": [
       "bool"
      ]
     },
     "execution_count": 27,
     "metadata": {},
     "output_type": "execute_result"
    }
   ],
   "source": [
    "type(idade>=18)"
   ]
  },
  {
   "cell_type": "markdown",
   "metadata": {},
   "source": [
    "# Tipos em uma lista"
   ]
  },
  {
   "cell_type": "code",
   "execution_count": 35,
   "metadata": {},
   "outputs": [
    {
     "name": "stdout",
     "output_type": "stream",
     "text": [
      "<class 'str'>\n",
      "<class 'int'>\n",
      "<class 'bool'>\n",
      "<class 'str'>\n"
     ]
    }
   ],
   "source": [
    "lista=  ['Nome', 28, True, '18']\n",
    "\n",
    "for elemento in lista:\n",
    "    print(type(elemento))"
   ]
  },
  {
   "cell_type": "markdown",
   "metadata": {},
   "source": [
    "# Random"
   ]
  },
  {
   "cell_type": "code",
   "execution_count": 62,
   "metadata": {},
   "outputs": [
    {
     "name": "stdout",
     "output_type": "stream",
     "text": [
      "[3, 5, 6, 2, 3, 0, 1, 2]\n"
     ]
    }
   ],
   "source": [
    "from random import randrange, seed\n",
    "\n",
    "notas_matematica = []\n",
    "\n",
    "seed(8)\n",
    "\n",
    "for notas in range(8):\n",
    "    notas_matematica.append(randrange(0,11))\n",
    "\n",
    "print(notas_matematica)\n"
   ]
  },
  {
   "cell_type": "markdown",
   "metadata": {},
   "source": [
    "# Gráfico com Matplotlib"
   ]
  },
  {
   "cell_type": "code",
   "execution_count": 77,
   "metadata": {},
   "outputs": [
    {
     "data": {
      "image/png": "[encoded data removed]",
      "text/plain": [
       "<Figure size 432x288 with 1 Axes>"
      ]
     },
     "metadata": {
      "needs_background": "light"
     },
     "output_type": "display_data"
    }
   ],
   "source": [
    "import matplotlib.pyplot as plt\n",
    "\n",
    "x = list(range(1, len(notas_matematica)+1))\n",
    "y = notas_matematica\n",
    "\n",
    "plt.plot(x, y, marker='x')\n",
    "plt.title('Notas de matemática')\n",
    "plt.xlabel('Provas')\n",
    "plt.ylabel('Notas')\n",
    "plt.show()"
   ]
  },
  {
   "cell_type": "code",
   "execution_count": null,
   "metadata": {},
   "outputs": [],
   "source": []
  }
 ],
 "metadata": {
  "kernelspec": {
   "display_name": "Python 3",
   "language": "python",
   "name": "python3"
  },
  "language_info": {
   "codemirror_mode": {
    "name": "ipython",
    "version": 3
   },
   "file_extension": ".py",
   "mimetype": "text/x-python",
   "name": "python",
   "nbconvert_exporter": "python",
   "pygments_lexer": "ipython3",
   "version": "3.7.6"
  }
 },
 "nbformat": 4,
 "nbformat_minor": 4
}
